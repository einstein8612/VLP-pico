{
 "cells": [
  {
   "cell_type": "code",
   "execution_count": 1,
   "id": "3f9bdaf2",
   "metadata": {},
   "outputs": [],
   "source": [
    "import torch\n",
    "import torch.nn as nn\n",
    "import torch.optim as optim"
   ]
  },
  {
   "cell_type": "code",
   "execution_count": 2,
   "id": "7aa4f975",
   "metadata": {},
   "outputs": [],
   "source": [
    "class NormalizeInput(nn.Module):\n",
    "    def forward(self, x: torch.Tensor) -> torch.Tensor:\n",
    "        return x / (x.norm(dim=1, keepdim=True) + 1e-8)"
   ]
  },
  {
   "cell_type": "code",
   "execution_count": 3,
   "id": "0bbdcb7f",
   "metadata": {},
   "outputs": [],
   "source": [
    "model = nn.Sequential(\n",
    "            NormalizeInput(),\n",
    "\n",
    "            nn.Linear(36, 64),\n",
    "            nn.ReLU6(),\n",
    "\n",
    "            nn.Linear(64, 32),\n",
    "            nn.LeakyReLU(0.1),\n",
    "\n",
    "            nn.Linear(32, 2),\n",
    "        )"
   ]
  },
  {
   "cell_type": "code",
   "execution_count": 4,
   "id": "116ecd91",
   "metadata": {},
   "outputs": [],
   "source": [
    "with open(\"./MLP-ONLINE-PICO-1749673828.pth\", \"rb\") as f:\n",
    "    model.load_state_dict(torch.load(f))"
   ]
  },
  {
   "cell_type": "code",
   "execution_count": 5,
   "id": "61e77fc3",
   "metadata": {},
   "outputs": [
    {
     "name": "stderr",
     "output_type": "stream",
     "text": [
      "2025-06-12 00:20:07.383115: E external/local_xla/xla/stream_executor/cuda/cuda_fft.cc:467] Unable to register cuFFT factory: Attempting to register factory for plugin cuFFT when one has already been registered\n",
      "WARNING: All log messages before absl::InitializeLog() is called are written to STDERR\n",
      "E0000 00:00:1749680407.402097   21091 cuda_dnn.cc:8579] Unable to register cuDNN factory: Attempting to register factory for plugin cuDNN when one has already been registered\n",
      "E0000 00:00:1749680407.407067   21091 cuda_blas.cc:1407] Unable to register cuBLAS factory: Attempting to register factory for plugin cuBLAS when one has already been registered\n",
      "W0000 00:00:1749680407.421921   21091 computation_placer.cc:177] computation placer already registered. Please check linkage and avoid linking the same target more than once.\n",
      "W0000 00:00:1749680407.421943   21091 computation_placer.cc:177] computation placer already registered. Please check linkage and avoid linking the same target more than once.\n",
      "W0000 00:00:1749680407.421945   21091 computation_placer.cc:177] computation placer already registered. Please check linkage and avoid linking the same target more than once.\n",
      "W0000 00:00:1749680407.421946   21091 computation_placer.cc:177] computation placer already registered. Please check linkage and avoid linking the same target more than once.\n",
      "2025-06-12 00:20:07.427208: I tensorflow/core/platform/cpu_feature_guard.cc:210] This TensorFlow binary is optimized to use available CPU instructions in performance-critical operations.\n",
      "To enable the following instructions: AVX2 FMA, in other operations, rebuild TensorFlow with the appropriate compiler flags.\n",
      "/root/Github/VLP-pico/.venv/lib/python3.12/site-packages/keras/src/layers/core/dense.py:93: UserWarning: Do not pass an `input_shape`/`input_dim` argument to a layer. When using Sequential models, prefer using an `Input(shape)` object as the first layer in the model instead.\n",
      "  super().__init__(activity_regularizer=activity_regularizer, **kwargs)\n",
      "/root/Github/VLP-pico/.venv/lib/python3.12/site-packages/keras/src/layers/activations/leaky_relu.py:41: UserWarning: Argument `alpha` is deprecated. Use `negative_slope` instead.\n",
      "  warnings.warn(\n",
      "I0000 00:00:1749680410.146144   21091 gpu_device.cc:2019] Created device /job:localhost/replica:0/task:0/device:GPU:0 with 4699 MB memory:  -> device: 0, name: NVIDIA GeForce GTX 1060 6GB, pci bus id: 0000:01:00.0, compute capability: 6.1\n",
      "2025-06-12 00:20:10.596305: W external/local_xla/xla/service/gpu/llvm_gpu_backend/default/nvptx_libdevice_path.cc:40] Can't find libdevice directory ${CUDA_DIR}/nvvm/libdevice. This may result in compilation or runtime failures, if the program we try to run uses routines from libdevice.\n",
      "Searched for CUDA in the following directories:\n",
      "  ./cuda_sdk_lib\n",
      "  ipykernel_launcher.runfiles/cuda_nvcc\n",
      "  ipykern/cuda_nvcc\n",
      "  \n",
      "  /usr/local/cuda\n",
      "  /opt/cuda\n",
      "  /root/Github/VLP-pico/.venv/lib/python3.12/site-packages/tensorflow/python/platform/../../../nvidia/cuda_nvcc\n",
      "  /root/Github/VLP-pico/.venv/lib/python3.12/site-packages/tensorflow/python/platform/../../../../nvidia/cuda_nvcc\n",
      "  /root/Github/VLP-pico/.venv/lib/python3.12/site-packages/tensorflow/python/platform/../../cuda\n",
      "  /root/Github/VLP-pico/.venv/lib/python3.12/site-packages/tensorflow/python/platform/../../../../../..\n",
      "  /root/Github/VLP-pico/.venv/lib/python3.12/site-packages/tensorflow/python/platform/../../../../../../..\n",
      "  .\n",
      "You can choose the search directory by setting xla_gpu_cuda_data_dir in HloModule's DebugOptions.  For most apps, setting the environment variable XLA_FLAGS=--xla_gpu_cuda_data_dir=/path/to/cuda will work.\n",
      "2025-06-12 00:20:10.613270: W tensorflow/compiler/mlir/tools/kernel_gen/transforms/gpu_kernel_to_blob_pass.cc:187] Failed to compile generated PTX with ptxas. Falling back to compilation by driver.\n",
      "2025-06-12 00:20:10.616203: W tensorflow/compiler/mlir/tools/kernel_gen/transforms/gpu_kernel_to_blob_pass.cc:187] Failed to compile generated PTX with ptxas. Falling back to compilation by driver.\n",
      "2025-06-12 00:20:10.618546: W tensorflow/compiler/mlir/tools/kernel_gen/transforms/gpu_kernel_to_blob_pass.cc:187] Failed to compile generated PTX with ptxas. Falling back to compilation by driver.\n",
      "2025-06-12 00:20:10.620612: W tensorflow/compiler/mlir/tools/kernel_gen/transforms/gpu_kernel_to_blob_pass.cc:187] Failed to compile generated PTX with ptxas. Falling back to compilation by driver.\n",
      "2025-06-12 00:20:10.622627: W tensorflow/compiler/mlir/tools/kernel_gen/transforms/gpu_kernel_to_blob_pass.cc:187] Failed to compile generated PTX with ptxas. Falling back to compilation by driver.\n",
      "2025-06-12 00:20:10.625017: W tensorflow/compiler/mlir/tools/kernel_gen/transforms/gpu_kernel_to_blob_pass.cc:187] Failed to compile generated PTX with ptxas. Falling back to compilation by driver.\n",
      "2025-06-12 00:20:10.635517: W tensorflow/compiler/mlir/tools/kernel_gen/transforms/gpu_kernel_to_blob_pass.cc:187] Failed to compile generated PTX with ptxas. Falling back to compilation by driver.\n",
      "2025-06-12 00:20:10.639479: W tensorflow/compiler/mlir/tools/kernel_gen/transforms/gpu_kernel_to_blob_pass.cc:187] Failed to compile generated PTX with ptxas. Falling back to compilation by driver.\n",
      "2025-06-12 00:20:10.643703: W tensorflow/compiler/mlir/tools/kernel_gen/transforms/gpu_kernel_to_blob_pass.cc:187] Failed to compile generated PTX with ptxas. Falling back to compilation by driver.\n",
      "2025-06-12 00:20:10.647812: W tensorflow/compiler/mlir/tools/kernel_gen/transforms/gpu_kernel_to_blob_pass.cc:187] Failed to compile generated PTX with ptxas. Falling back to compilation by driver.\n",
      "2025-06-12 00:20:10.650123: W tensorflow/compiler/mlir/tools/kernel_gen/transforms/gpu_kernel_to_blob_pass.cc:187] Failed to compile generated PTX with ptxas. Falling back to compilation by driver.\n",
      "2025-06-12 00:20:10.652177: W tensorflow/compiler/mlir/tools/kernel_gen/transforms/gpu_kernel_to_blob_pass.cc:187] Failed to compile generated PTX with ptxas. Falling back to compilation by driver.\n",
      "2025-06-12 00:20:10.654840: W tensorflow/compiler/mlir/tools/kernel_gen/transforms/gpu_kernel_to_blob_pass.cc:187] Failed to compile generated PTX with ptxas. Falling back to compilation by driver.\n"
     ]
    }
   ],
   "source": [
    "import tensorflow as tf\n",
    "\n",
    "model_tf = tf.keras.Sequential([\n",
    "    tf.keras.layers.Dense(64, activation=tf.nn.relu6, name='linear1', input_shape=(36,)),\n",
    "    tf.keras.layers.Dense(32, name='linear2'),\n",
    "    tf.keras.layers.LeakyReLU(alpha=0.1),\n",
    "    tf.keras.layers.Dense(2, name='linear3'),\n",
    "])\n",
    "\n",
    "# Triggers layer builds\n",
    "with tf.device('/CPU:0'):\n",
    "    model_tf(tf.zeros((1, 36)))"
   ]
  },
  {
   "cell_type": "code",
   "execution_count": 6,
   "id": "ca9768ba",
   "metadata": {},
   "outputs": [],
   "source": [
    "import torch\n",
    "import numpy as np\n",
    "\n",
    "state_dict = torch.load(\"MLP-ONLINE-PICO-1749673828.pth\", map_location=\"cpu\")\n",
    "\n",
    "layer_names = ['linear1', 'linear2', 'linear3']\n",
    "pt_layer_keys = ['1', '3', '5']\n",
    "\n",
    "for tf_name, pt_idx in zip(layer_names, pt_layer_keys):\n",
    "    W = state_dict[f'{pt_idx}.weight'].numpy().T  # [in, out] for TF\n",
    "    b = state_dict[f'{pt_idx}.bias'].numpy()\n",
    "    model_tf.get_layer(tf_name).set_weights([W, b])\n",
    "\n",
    "model_tf.trainable = False"
   ]
  },
  {
   "cell_type": "code",
   "execution_count": 15,
   "id": "280d3579",
   "metadata": {},
   "outputs": [
    {
     "name": "stdout",
     "output_type": "stream",
     "text": [
      "PyTorch output: [[1663.2979 1690.6519]]\n",
      "TensorFlow output: tf.Tensor([[1663.298 1690.652]], shape=(1, 2), dtype=float32)\n"
     ]
    }
   ],
   "source": [
    "# Test if they are equivalent\n",
    "x = np.random.rand(1, 36).astype(np.float32)\n",
    "x = x / (np.linalg.norm(x, axis=1, keepdims=True) + 1e-8)\n",
    "\n",
    "pt_output = model(torch.tensor(x)).detach().numpy()\n",
    "with tf.device('/CPU:0'):\n",
    "    tf_output = model_tf(x)\n",
    "\n",
    "print(\"PyTorch output:\", pt_output)\n",
    "print(\"TensorFlow output:\", tf_output)\n",
    "\n",
    "# assert np.allclose(pt_output, tf_output, atol=1e-6), \"Outputs are not close enough!\""
   ]
  },
  {
   "cell_type": "code",
   "execution_count": 8,
   "id": "8c0fb9bf",
   "metadata": {},
   "outputs": [],
   "source": [
    "def representative_dataset():\n",
    "    for _ in range(1000):\n",
    "        data = tf.random.uniform(shape=(1, 36), dtype=tf.float32)\n",
    "        yield [data]"
   ]
  },
  {
   "cell_type": "code",
   "execution_count": 9,
   "id": "020346a5",
   "metadata": {},
   "outputs": [
    {
     "name": "stdout",
     "output_type": "stream",
     "text": [
      "INFO:tensorflow:Assets written to: /tmp/tmp15yxf14e/assets\n"
     ]
    },
    {
     "name": "stderr",
     "output_type": "stream",
     "text": [
      "INFO:tensorflow:Assets written to: /tmp/tmp15yxf14e/assets\n"
     ]
    },
    {
     "name": "stdout",
     "output_type": "stream",
     "text": [
      "Saved artifact at '/tmp/tmp15yxf14e'. The following endpoints are available:\n",
      "\n",
      "* Endpoint 'serve'\n",
      "  args_0 (POSITIONAL_ONLY): TensorSpec(shape=(None, 36), dtype=tf.float32, name='keras_tensor')\n",
      "Output Type:\n",
      "  TensorSpec(shape=(None, 2), dtype=tf.float32, name=None)\n",
      "Captures:\n",
      "  140272447568784: TensorSpec(shape=(), dtype=tf.resource, name=None)\n",
      "  140272447569744: TensorSpec(shape=(), dtype=tf.resource, name=None)\n",
      "  140272447564176: TensorSpec(shape=(), dtype=tf.resource, name=None)\n",
      "  140272447567440: TensorSpec(shape=(), dtype=tf.resource, name=None)\n",
      "  140272447568592: TensorSpec(shape=(), dtype=tf.resource, name=None)\n",
      "  140272447567632: TensorSpec(shape=(), dtype=tf.resource, name=None)\n"
     ]
    },
    {
     "name": "stderr",
     "output_type": "stream",
     "text": [
      "/root/Github/VLP-pico/.venv/lib/python3.12/site-packages/tensorflow/lite/python/convert.py:854: UserWarning: Statistics for quantized inputs were expected, but not specified; continuing anyway.\n",
      "  warnings.warn(\n",
      "WARNING: All log messages before absl::InitializeLog() is called are written to STDERR\n",
      "W0000 00:00:1749680411.501413   21091 tf_tfl_flatbuffer_helpers.cc:365] Ignored output_format.\n",
      "W0000 00:00:1749680411.501454   21091 tf_tfl_flatbuffer_helpers.cc:368] Ignored drop_control_dependency.\n",
      "2025-06-12 00:20:11.501944: I tensorflow/cc/saved_model/reader.cc:83] Reading SavedModel from: /tmp/tmp15yxf14e\n",
      "2025-06-12 00:20:11.502408: I tensorflow/cc/saved_model/reader.cc:52] Reading meta graph with tags { serve }\n",
      "2025-06-12 00:20:11.502417: I tensorflow/cc/saved_model/reader.cc:147] Reading SavedModel debug info (if present) from: /tmp/tmp15yxf14e\n",
      "I0000 00:00:1749680411.506818   21091 mlir_graph_optimization_pass.cc:425] MLIR V1 optimization pass is not enabled\n",
      "2025-06-12 00:20:11.507455: I tensorflow/cc/saved_model/loader.cc:236] Restoring SavedModel bundle.\n",
      "2025-06-12 00:20:11.527868: I tensorflow/cc/saved_model/loader.cc:220] Running initialization op on SavedModel bundle at path: /tmp/tmp15yxf14e\n",
      "2025-06-12 00:20:11.534307: I tensorflow/cc/saved_model/loader.cc:471] SavedModel load for tags { serve }; Status: success: OK. Took 32368 microseconds.\n",
      "2025-06-12 00:20:11.544165: I tensorflow/compiler/mlir/tensorflow/utils/dump_mlir_util.cc:269] disabling MLIR crash reproducer, set env var `MLIR_CRASH_REPRODUCER_DIRECTORY` to enable.\n",
      "fully_quantize: 0, inference_type: 6, input_inference_type: INT8, output_inference_type: INT8\n"
     ]
    }
   ],
   "source": [
    "converter = tf.lite.TFLiteConverter.from_keras_model(model_tf)\n",
    "converter.optimizations = [tf.lite.Optimize.DEFAULT]\n",
    "converter.representative_dataset = representative_dataset\n",
    "\n",
    "# Ensure full integer quantization\n",
    "converter.target_spec.supported_ops = [tf.lite.OpsSet.TFLITE_BUILTINS_INT8]\n",
    "converter.inference_input_type = tf.int8\n",
    "converter.inference_output_type = tf.int8\n",
    "\n",
    "tflite_model = converter.convert()\n",
    "\n",
    "# Save\n",
    "with open(\"model_int8.tflite\", \"wb\") as f:\n",
    "    f.write(tflite_model)"
   ]
  },
  {
   "cell_type": "code",
   "execution_count": 12,
   "id": "ce1ccc30",
   "metadata": {},
   "outputs": [
    {
     "data": {
      "text/plain": [
       "np.float64(0.9999994879548689)"
      ]
     },
     "execution_count": 12,
     "metadata": {},
     "output_type": "execute_result"
    }
   ],
   "source": [
    "np.linalg.norm(np.array([    0.000000, 0.000000, 0.021984, 0.080698, 0.271321, 0.303353,\n",
    "    0.000000, 0.000000, 0.029773, 0.124845, 0.451808, 0.644560,\n",
    "    0.000000, 0.000000, 0.023496, 0.083553, 0.239094, 0.340424,\n",
    "    0.000000, 0.000000, 0.000000, 0.034788, 0.063870, 0.069226,\n",
    "    0.000000, 0.000000, 0.000000, 0.014055, 0.000000, 0.020920,\n",
    "    0.000000, 0.000000, 0.000000, 0.000000, 0.000000, 0.000000]))"
   ]
  }
 ],
 "metadata": {
  "kernelspec": {
   "display_name": ".venv",
   "language": "python",
   "name": "python3"
  },
  "language_info": {
   "codemirror_mode": {
    "name": "ipython",
    "version": 3
   },
   "file_extension": ".py",
   "mimetype": "text/x-python",
   "name": "python",
   "nbconvert_exporter": "python",
   "pygments_lexer": "ipython3",
   "version": "3.12.3"
  }
 },
 "nbformat": 4,
 "nbformat_minor": 5
}
